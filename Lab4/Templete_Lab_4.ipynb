{
 "cells": [
  {
   "cell_type": "markdown",
   "metadata": {},
   "source": [
    "# Lab 4 Report\n",
    "Author names go here\n",
    "\n",
    "(This should be a markup cell, which means that when you run it you just get formated text.)"
   ]
  },
  {
   "cell_type": "code",
   "execution_count": 2,
   "metadata": {},
   "outputs": [],
   "source": [
    "import numpy as np\n",
    "import matplotlib.pyplot as plt \n",
    "import csv\n",
    "import pandas as pd\n",
    "import matplotlib\n",
    "from scipy.io import wavfile as wav\n",
    "from scipy import signal as sig\n",
    "import simpleaudio as sa\n",
    "import decimal\n",
    "from decimal import *\n",
    "\n",
    "#timeshift function\n",
    "def timeshift(x,fs,t0):\n",
    "    numzeros = int(abs(t0)*fs)\n",
    "    zeros = np.zeros(numzeros)\n",
    "    if (t0<0):\n",
    "        y = np.concatenate((zeros,x))\n",
    "        t = np.arange(0,len(y),1)*(1/fs)\n",
    "    elif (t0>0):\n",
    "        newx = x[numzeros:]\n",
    "        y = np.concatenate((newx,zeros))\n",
    "        t = np.arange(0,len(y),1)*(1/fs)\n",
    "    else:\n",
    "        return x,np.arange(0,len(x),1)*(1/fs)\n",
    "    \n",
    "    return y,t\n",
    "#timescale function\n",
    "def timescale(x,fs,a):\n",
    "    n,d = decimal.Decimal(a).as_integer_ratio()\n",
    "    y = sig.resample_poly(x,d,n)\n",
    "    t = np.arange(0,len(y),1)*(1/fs)\n",
    "    return y,t\n",
    "#unit step function\n",
    "def u(t):\n",
    "    return 1.0*(t>0)\n",
    "\n",
    "def delta(t,fs):\n",
    "    return fs * np.concatenate([[0],np.diff(u(t))])"
   ]
  },
  {
   "cell_type": "markdown",
   "metadata": {},
   "source": [
    "## Summary\n",
    "Include a brief abstract summarizing what this lab involves. (This should be a markup cell.)"
   ]
  },
  {
   "cell_type": "markdown",
   "metadata": {},
   "source": [
    "## Assignment 1 --  Matched FIlter with Ideal Signals (Title of Assignment 1)"
   ]
  },
  {
   "cell_type": "code",
   "execution_count": 16,
   "metadata": {},
   "outputs": [
    {
     "data": {
      "image/png": "[encoded data removed]",
      "text/plain": [
       "<Figure size 432x288 with 1 Axes>"
      ]
     },
     "metadata": {
      "needs_background": "light"
     },
     "output_type": "display_data"
    }
   ],
   "source": [
    "# Assignment 1 - Time Scaling Function\n",
    "\n",
    "# 1.\n",
    "fs = 8000\n",
    "t = np.arange(0,1+1/fs,1/fs)\n",
    "\n",
    "s1 = u(t)-u(t-1)\n",
    "s0 = -1*s1\n",
    "\n",
    "# 2.\n",
    "y1 = np.convolve(s1,s1)/fs\n",
    "t_y = np.arange(0,len(y1),1)/fs\n",
    "y2 = np.convolve(s1,s0)/fs\n",
    "\n",
    "# 3.\n",
    "fig = plt.figure(2)\n",
    "fig.subplots_adjust(hspace = 1.5, wspace = 0.5)\n",
    "\n",
    "plt.subplot(3,1,1)\n",
    "plt.plot(t_y,y1)\n",
    "plt.title(\"y1(t) vs ty\")\n",
    "plt.xlabel(\"ty\")\n",
    "plt.ylabel(\"y1t(t)\")\n",
    "plt.grid()\n",
    "plt.show()\n",
    "\n",
    "plt.subplot(3,1,2)\n",
    "plt.plot(t_y,y2)\n",
    "plt.title(\"y2(t) vs ty\")\n",
    "plt.xlabel(\"ty\")\n",
    "plt.ylabel(\"y1t(t)\")\n",
    "plt.grid()\n",
    "plt.show()\n",
    "\n",
    "# 4.\n",
    "\n",
    "\n",
    "\n",
    "# Discussion\n"
   ]
  },
  {
   "cell_type": "markdown",
   "metadata": {},
   "source": [
    "###  Discussion\n",
    "\n",
    "Include discussion on this assignment, answering any questions. This is a markdown cell.\n"
   ]
  },
  {
   "cell_type": "markdown",
   "metadata": {},
   "source": [
    "## Assignment 2 -- Signal Decoding with a Matched Filter (title of assignment 2)"
   ]
  },
  {
   "cell_type": "code",
   "execution_count": null,
   "metadata": {},
   "outputs": [],
   "source": [
    "# A."
   ]
  },
  {
   "cell_type": "code",
   "execution_count": null,
   "metadata": {},
   "outputs": [],
   "source": [
    "# B.a\n",
    "\n",
    "\n",
    "\n",
    "# B.b\n",
    "\n",
    "\n",
    "\n",
    "# B.c"
   ]
  },
  {
   "cell_type": "code",
   "execution_count": null,
   "metadata": {},
   "outputs": [],
   "source": [
    "# C.a\n",
    "\n",
    "\n",
    "\n",
    "# C.b\n",
    "\n",
    "\n",
    "\n",
    "# C.c"
   ]
  },
  {
   "cell_type": "markdown",
   "metadata": {},
   "source": [
    "###  Discussion\n",
    "\n",
    "Include discussion on this assignment, answering any questions. This is a markdown cell."
   ]
  },
  {
   "cell_type": "markdown",
   "metadata": {},
   "source": [
    "## Assignment 3 -- Decipher Received Message (title of assignment 3)"
   ]
  },
  {
   "cell_type": "code",
   "execution_count": 2,
   "metadata": {},
   "outputs": [],
   "source": [
    "# A.\n",
    "def decode(r,fs,s0,s1):\n",
    "    y0=np.convolve(r,s0)\n",
    "    y0_corr=y0(y0.size/2)/fs\n",
    "    y1=np.convolve(r,s1)\n",
    "    y1_corr=y1(y1.size/2)/fs   \n",
    "    if (y1_corr > y0_corr):\n",
    "        return 1\n",
    "    else:\n",
    "        return 0\n",
    "\n",
    "file = open(\"receivedmsg.csv\", \"rb\")\n",
    "rm = np.loadtxt(file, delimiter=\",\")\n",
    "\n",
    "N = rm.shape[0]\n",
    "\n",
    "# B. \n",
    "def rm_rows(N):\n",
    "    message_bits = np.zeros(N)\n",
    "\n",
    "# C.\n",
    "\n",
    "\n",
    "# D.\n",
    "print (message_bits)\n"
   ]
  },
  {
   "cell_type": "markdown",
   "metadata": {},
   "source": [
    "###  Discussion"
   ]
  },
  {
   "cell_type": "code",
   "execution_count": null,
   "metadata": {},
   "outputs": [],
   "source": []
  }
 ],
 "metadata": {
  "kernelspec": {
   "display_name": "Python 3",
   "language": "python",
   "name": "python3"
  },
  "language_info": {
   "codemirror_mode": {
    "name": "ipython",
    "version": 3
   },
   "file_extension": ".py",
   "mimetype": "text/x-python",
   "name": "python",
   "nbconvert_exporter": "python",
   "pygments_lexer": "ipython3",
   "version": "3.8.5"
  }
 },
 "nbformat": 4,
 "nbformat_minor": 4
}
