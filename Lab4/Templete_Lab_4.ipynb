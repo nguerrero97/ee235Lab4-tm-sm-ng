{
 "cells": [
  {
   "cell_type": "markdown",
   "metadata": {},
   "source": [
    "# Lab 4 Report\n",
    "Taylor, Nicole, Steven\n",
    "\n",
    "(This should be a markup cell, which means that when you run it you just get formated text.)"
   ]
  },
  {
   "cell_type": "code",
   "execution_count": 1,
   "metadata": {},
   "outputs": [],
   "source": [
    "import numpy as np\n",
    "import matplotlib.pyplot as plt \n",
    "import csv\n",
    "import pandas as pd\n",
    "import matplotlib\n",
    "from scipy.io import wavfile as wav\n",
    "from scipy import signal as sig\n",
    "import simpleaudio as sa\n",
    "import decimal\n",
    "from decimal import *\n",
    "\n",
    "#timeshift function\n",
    "def timeshift(x,fs,t0):\n",
    "    numzeros = int(abs(t0)*fs)\n",
    "    zeros = np.zeros(numzeros)\n",
    "    if (t0<0):\n",
    "        y = np.concatenate((zeros,x))\n",
    "        t = np.arange(0,len(y),1)*(1/fs)\n",
    "    elif (t0>0):\n",
    "        newx = x[numzeros:]\n",
    "        y = np.concatenate((newx,zeros))\n",
    "        t = np.arange(0,len(y),1)*(1/fs)\n",
    "    else:\n",
    "        return x,np.arange(0,len(x),1)*(1/fs)\n",
    "    \n",
    "    return y,t\n",
    "#timescale function\n",
    "def timescale(x,fs,a):\n",
    "    n,d = decimal.Decimal(a).as_integer_ratio()\n",
    "    y = sig.resample_poly(x,d,n)\n",
    "    t = np.arange(0,len(y),1)*(1/fs)\n",
    "    return y,t\n",
    "#unit step function\n",
    "def u(t):\n",
    "    return 1.0*(t>0)\n",
    "\n",
    "def delta(t,fs):\n",
    "    return fs * np.concatenate([[0],np.diff(u(t))])"
   ]
  },
  {
   "cell_type": "markdown",
   "metadata": {},
   "source": [
    "## Summary\n",
    "Include a brief abstract summarizing what this lab involves. (This should be a markup cell.)"
   ]
  },
  {
   "cell_type": "markdown",
   "metadata": {},
   "source": [
    "## Assignment 1 --  Matched FIlter with Ideal Signals (Title of Assignment 1)"
   ]
  },
  {
   "cell_type": "code",
   "execution_count": 10,
   "metadata": {},
   "outputs": [
    {
     "data": {
      "image/png": "[encoded data removed]",
      "text/plain": [
       "<Figure size 432x288 with 1 Axes>"
      ]
     },
     "metadata": {
      "needs_background": "light"
     },
     "output_type": "display_data"
    },
    {
     "data": {
      "image/png": "[encoded data removed]",
      "text/plain": [
       "<Figure size 432x288 with 1 Axes>"
      ]
     },
     "metadata": {
      "needs_background": "light"
     },
     "output_type": "display_data"
    },
    {
     "data": {
      "image/png": "[encoded data removed]",
      "text/plain": [
       "<Figure size 432x288 with 1 Axes>"
      ]
     },
     "metadata": {
      "needs_background": "light"
     },
     "output_type": "display_data"
    },
    {
     "name": "stdout",
     "output_type": "stream",
     "text": [
      "1.0\n",
      "-1.0\n"
     ]
    }
   ],
   "source": [
    "# Assignment 1 - Time Scaling Function\n",
    "\n",
    "# 1.\n",
    "fs = 8000\n",
    "t = np.arange(0,1+1/fs,1/fs)\n",
    "\n",
    "s1 = u(t)-u(t-1)\n",
    "t_s1 = np.arange(0,len(s1),1)/fs\n",
    "s0 = -1*s1\n",
    "\n",
    "# 2.\n",
    "y1 = np.convolve(s1,s1)/fs\n",
    "t_y = np.arange(0,len(y1),1)/fs\n",
    "y2 = np.convolve(s1,s0)/fs\n",
    "\n",
    "# 3.\n",
    "fig = plt.figure(2)\n",
    "fig.subplots_adjust(hspace = 1.5, wspace = 0.5)\n",
    "\n",
    "plt.subplot(3,1,1)\n",
    "plt.plot(t_y,y1)\n",
    "plt.title(\"y1(t) vs ty\")\n",
    "plt.xlabel(\"ty\")\n",
    "plt.ylabel(\"y1t(t)\")\n",
    "plt.ylim(0,2)\n",
    "plt.grid()\n",
    "plt.show()\n",
    "\n",
    "plt.subplot(3,1,2)\n",
    "plt.plot(t_y,y2)\n",
    "plt.title(\"y2(t) vs ty\")\n",
    "plt.xlabel(\"ty\")\n",
    "plt.ylabel(\"y1t(t)\")\n",
    "plt.ylim(-2,0)\n",
    "plt.grid()\n",
    "plt.show()\n",
    "\n",
    "# 4.\n",
    "plt.subplot(3,1,3)\n",
    "plt.plot(t_s1,s1)\n",
    "plt.title(\"s1(t) vs t_s1\")\n",
    "plt.xlabel(\"t_s1\")\n",
    "plt.ylabel(\"s1(t)\")\n",
    "plt.ylim(0,2)\n",
    "plt.grid()\n",
    "plt.show()\n",
    "\n",
    "\n",
    "y1_corr = y1[int(1*fs)+1]\n",
    "y2_corr = y2[int(1*fs)+1]\n",
    "print(y1_corr)\n",
    "print(y2_corr)\n",
    "# Discussion\n"
   ]
  },
  {
   "cell_type": "markdown",
   "metadata": {},
   "source": [
    "###  Discussion\n",
    "\n",
    "Include discussion on this assignment, answering any questions. This is a markdown cell.\n"
   ]
  },
  {
   "cell_type": "markdown",
   "metadata": {},
   "source": [
    "## Assignment 2 -- Signal Decoding with a Matched Filter (title of assignment 2)"
   ]
  },
  {
   "cell_type": "code",
   "execution_count": 11,
   "metadata": {},
   "outputs": [],
   "source": [
    "# A.\n",
    "\n",
    "def decode (r,fs,s0,s1):\n",
    "    y = np.convolve(r,s0)\n",
    "    y0_corr = [y(y.size/2)]/fs\n",
    "    y1 = np.convolve(r,s1)\n",
    "    y1_corr = [y1(y1.size/2)]/fs\n",
    "    return y0_corr,y1_corr\n",
    "   \n",
    "    if (y1_corr > y0_corr):\n",
    "        return 1\n",
    "    else:\n",
    "        return 0"
   ]
  },
  {
   "cell_type": "code",
   "execution_count": 12,
   "metadata": {},
   "outputs": [
    {
     "data": {
      "image/png": "[encoded data removed]",
      "text/plain": [
       "<Figure size 432x288 with 1 Axes>"
      ]
     },
     "metadata": {
      "needs_background": "light"
     },
     "output_type": "display_data"
    }
   ],
   "source": [
    "# B.a\n",
    "\n",
    "fs = 8000\n",
    "t = np.arange(0,1+1/fs,1/fs)\n",
    "\n",
    "s1 = u(t)-u(t-1)\n",
    "s0 = -1*s1\n",
    "\n",
    "n = np.random.normal(0,10,len(s1))\n",
    "\n",
    "# B.b\n",
    "r = s1 + n\n",
    "t_r = np.arange(0,len(s1),1)/fs\n",
    "\n",
    "\n",
    "# B.c\n",
    "plt.subplot(2,1,1)\n",
    "plt.plot(t_r,r)\n",
    "plt.title(\"r(t) vs t\")\n",
    "plt.xlabel(\"Time (s)\")\n",
    "plt.ylabel(\"Amplitude\")\n",
    "plt.xlim(0,2)\n",
    "plt.grid()\n",
    "plt.show()\n"
   ]
  },
  {
   "cell_type": "code",
   "execution_count": 13,
   "metadata": {},
   "outputs": [
    {
     "data": {
      "image/png": "[encoded data removed]",
      "text/plain": [
       "<Figure size 432x288 with 1 Axes>"
      ]
     },
     "metadata": {
      "needs_background": "light"
     },
     "output_type": "display_data"
    }
   ],
   "source": [
    "# C.a\n",
    "yr1 = np.convolve(r,s1)/fs\n",
    "yr0 = np.convolve(r,s0)/fs\n",
    "\n",
    "t_yr = np.arange(0,len(yr1),1)/fs\n",
    "\n",
    "\n",
    "# C.b\n",
    "fig1 = plt.figure(1)\n",
    "plt.plot(t_yr,yr1,label = \"r(t) * s0(t)\", color = \"magenta\")\n",
    "plt.plot(t_yr,yr0,label = \"r(t) * s1(t)\", color = \"red\")\n",
    "plt.title(\"Convolution with Noisy Signal\")\n",
    "plt.xlabel(\"Time (s)\")\n",
    "plt.ylabel(\"Amplitude\")\n",
    "plt.xlim(0,2)\n",
    "plt.legend()\n",
    "plt.grid()\n",
    "plt.show()\n",
    "\n",
    "\n",
    "# C.c\n",
    "#yr1_corr# C.a\n"
   ]
  },
  {
   "cell_type": "markdown",
   "metadata": {},
   "source": [
    "###  Discussion\n",
    "\n",
    "Include discussion on this assignment, answering any questions. This is a markdown cell."
   ]
  },
  {
   "cell_type": "markdown",
   "metadata": {},
   "source": [
    "## Assignment 3 -- Decipher Received Message (title of assignment 3)"
   ]
  },
  {
   "cell_type": "code",
   "execution_count": 2,
   "metadata": {},
   "outputs": [],
   "source": [
    "# A.\n",
    "def decode(r,fs,s0,s1):\n",
    "    y0=np.convolve(r,s0)\n",
    "    y0_corr=y0(y0.size/2)/fs\n",
    "    y1=np.convolve(r,s1)\n",
    "    y1_corr=y1(y1.size/2)/fs   \n",
    "    if (y1_corr > y0_corr):\n",
    "        return 1\n",
    "    else:\n",
    "        return 0\n",
    "\n",
    "file = open(\"receivedmsg.csv\", \"rb\")\n",
    "rm = np.loadtxt(file, delimiter=\",\")\n",
    "\n",
    "N = rm.shape[0]\n",
    "\n",
    "# B. \n",
    "def rm_rows(N):\n",
    "    message_bits = np.zeros(N)\n",
    "\n",
    "# C.\n",
    "\n",
    "\n",
    "# D.\n",
    "print (message_bits)\n"
   ]
  },
  {
   "cell_type": "markdown",
   "metadata": {},
   "source": [
    "###  Discussion"
   ]
  },
  {
   "cell_type": "code",
   "execution_count": null,
   "metadata": {},
   "outputs": [],
   "source": []
  }
 ],
 "metadata": {
  "kernelspec": {
   "display_name": "Python 3",
   "language": "python",
   "name": "python3"
  },
  "language_info": {
   "codemirror_mode": {
    "name": "ipython",
    "version": 3
   },
   "file_extension": ".py",
   "mimetype": "text/x-python",
   "name": "python",
   "nbconvert_exporter": "python",
   "pygments_lexer": "ipython3",
   "version": "3.8.5"
  }
 },
 "nbformat": 4,
 "nbformat_minor": 4
}
